{
 "cells": [
  {
   "cell_type": "code",
   "execution_count": 1,
   "metadata": {},
   "outputs": [],
   "source": [
    "import numpy as np\n",
    "import pandas as pd\n",
    "import subprocess as sp\n",
    "import re\n",
    "\n",
    "from tqdm import tqdm\n",
    "from src.utils import load_pickle, dump_pickle"
   ]
  },
  {
   "cell_type": "code",
   "execution_count": 2,
   "metadata": {},
   "outputs": [],
   "source": [
    "%load_ext autoreload\n",
    "%autoreload "
   ]
  },
  {
   "cell_type": "code",
   "execution_count": 4,
   "metadata": {},
   "outputs": [],
   "source": [
    "def countrypatent(countrycode):\n",
    "    \n",
    "    authorities = ['AE', 'AR', 'AT', 'AU', 'BE', 'BR', 'CA', 'CH', 'CL', 'CN', 'CO', 'CZ', 'DE', 'DK', 'ES', 'FI', 'FR', 'GB', 'GR', 'HK', 'HU', 'IE', 'IL', \n",
    "                   'IN', 'IT', 'JP', 'KR', 'LU', 'MX', 'MY', 'NL', 'NO', 'NZ', 'PL', 'PT', 'RU', 'SA', 'SE', 'SG', 'TH', 'TR', 'TW', 'ZA', 'US']\n",
    "    \n",
    "    \n",
    "    dataset = load_pickle('/storage/samuel.edet/Patent/global_city/data/processed/tls20176_version1.p')\n",
    "    dataset = dataset.loc[dataset['appln_auth'].isin(authorities)]\n",
    "    dataset = dataset.loc[dataset['person_ctry_code'].isin(authorities)]    \n",
    "    dataset = dataset.reset_index(drop=True)\n",
    "    \n",
    "    dataset = dataset.groupby(['docdb_family_id'])\n",
    "    \n",
    "    \n",
    "    \n",
    "    country_dataset = pd.concat([dataset.get_group(key) for key in tqdm(dataset.groups.keys()) if any(dataset.get_group(key)['appln_auth']==countrycode)])\n",
    "    \n",
    "    country_inventor_dataset = country_dataset.query('invt_seq_nr > 0 & applt_seq_nr == 0')\n",
    "    country_assignee_dataset = country_dataset.query('invt_seq_nr == 0 & applt_seq_nr > 0')\n",
    "    country_inventor_assignee_dataset = country_dataset.query('invt_seq_nr > 0 & applt_seq_nr > 0')\n",
    "\n",
    "           \n",
    "    dump_pickle(country_inventor_dataset, '/storage/samuel.edet/Patent/global_city/data/interim/country_patent/%s_inventor.p'%(countrycode))\n",
    "    dump_pickle(country_assignee_dataset, '/storage/samuel.edet/Patent/global_city/data/interim/country_patent/%s_assignee.p'%(countrycode))\n",
    "    dump_pickle(country_inventor_assignee_dataset, '/storage/samuel.edet/Patent/global_city/data/interim/country_patent/%s_inventorassignee.p'%(countrycode))\n",
    "    \n",
    "    return coountry_inventor_patent, coountry_assignee_patent, coountry_inventor_assignee_patent"
   ]
  },
  {
   "cell_type": "code",
   "execution_count": null,
   "metadata": {},
   "outputs": [
    {
     "name": "stderr",
     "output_type": "stream",
     "text": [
      "  7%|▋         | 600290/8317028 [11:31<2:22:32, 902.26it/s]"
     ]
    }
   ],
   "source": [
    "argentina = countrypatent('AR')"
   ]
  },
  {
   "cell_type": "code",
   "execution_count": null,
   "metadata": {},
   "outputs": [],
   "source": []
  },
  {
   "cell_type": "code",
   "execution_count": null,
   "metadata": {},
   "outputs": [],
   "source": []
  },
  {
   "cell_type": "code",
   "execution_count": null,
   "metadata": {},
   "outputs": [],
   "source": []
  },
  {
   "cell_type": "code",
   "execution_count": null,
   "metadata": {},
   "outputs": [],
   "source": []
  },
  {
   "cell_type": "code",
   "execution_count": null,
   "metadata": {},
   "outputs": [],
   "source": []
  }
 ],
 "metadata": {
  "kernelspec": {
   "display_name": "Python 3",
   "language": "python",
   "name": "python3"
  },
  "language_info": {
   "codemirror_mode": {
    "name": "ipython",
    "version": 3
   },
   "file_extension": ".py",
   "mimetype": "text/x-python",
   "name": "python",
   "nbconvert_exporter": "python",
   "pygments_lexer": "ipython3",
   "version": "3.6.7"
  }
 },
 "nbformat": 4,
 "nbformat_minor": 2
}
